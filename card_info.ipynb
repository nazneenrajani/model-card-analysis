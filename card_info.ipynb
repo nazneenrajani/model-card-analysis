version https://git-lfs.github.com/spec/v1
oid sha256:aa47cf56efa48f93f64542c90d7b8dfe9b483fa6c3154a99a8bffb22c02ddef3
size 1133494
